{
 "cells": [
  {
   "cell_type": "markdown",
   "metadata": {},
   "source": [
    "The methods of handling missing values include:\n",
    "1. Imputation\n",
    "2. Drop Rows\n",
    "3. Drop Columns\n",
    "\n",
    "But first the important thing is to find how many missing values are there in the numerical cols that we can handle.\n",
    "\n",
    "So first step is to find classify the numerical cols vs the categorical cols."
   ]
  },
  {
   "cell_type": "code",
   "execution_count": 25,
   "metadata": {},
   "outputs": [],
   "source": [
    "import pandas as pd\n",
    "# for dataframe related manipulations\n",
    "import matplotlib as plt\n",
    "# for displaying certain features and their aspects\n",
    "\n",
    "# load the merged dataset into a df and call it 'merged_df'\n",
    "merged_df = pd.read_csv(\"atp_matches_2010_2024.csv\")\n",
    "\n",
    "# first check which numerical features have missing values:\n",
    "#  figure out numerical columns = \n",
    "numerical_cols = [] # define\n",
    "categorical_cols = [] # define"
   ]
  },
  {
   "cell_type": "markdown",
   "metadata": {},
   "source": [
    "Give a small peek into what the data looks like?"
   ]
  },
  {
   "cell_type": "code",
   "execution_count": 26,
   "metadata": {},
   "outputs": [
    {
     "data": {
      "text/html": [
       "<div>\n",
       "<style scoped>\n",
       "    .dataframe tbody tr th:only-of-type {\n",
       "        vertical-align: middle;\n",
       "    }\n",
       "\n",
       "    .dataframe tbody tr th {\n",
       "        vertical-align: top;\n",
       "    }\n",
       "\n",
       "    .dataframe thead th {\n",
       "        text-align: right;\n",
       "    }\n",
       "</style>\n",
       "<table border=\"1\" class=\"dataframe\">\n",
       "  <thead>\n",
       "    <tr style=\"text-align: right;\">\n",
       "      <th></th>\n",
       "      <th>tourney_id</th>\n",
       "      <th>tourney_name</th>\n",
       "      <th>surface</th>\n",
       "      <th>draw_size</th>\n",
       "      <th>tourney_level</th>\n",
       "      <th>tourney_date</th>\n",
       "      <th>match_num</th>\n",
       "      <th>winner_id</th>\n",
       "      <th>winner_seed</th>\n",
       "      <th>winner_entry</th>\n",
       "      <th>...</th>\n",
       "      <th>l_1stIn</th>\n",
       "      <th>l_1stWon</th>\n",
       "      <th>l_2ndWon</th>\n",
       "      <th>l_SvGms</th>\n",
       "      <th>l_bpSaved</th>\n",
       "      <th>l_bpFaced</th>\n",
       "      <th>winner_rank</th>\n",
       "      <th>winner_rank_points</th>\n",
       "      <th>loser_rank</th>\n",
       "      <th>loser_rank_points</th>\n",
       "    </tr>\n",
       "  </thead>\n",
       "  <tbody>\n",
       "    <tr>\n",
       "      <th>0</th>\n",
       "      <td>2010-339</td>\n",
       "      <td>Brisbane</td>\n",
       "      <td>Hard</td>\n",
       "      <td>32</td>\n",
       "      <td>A</td>\n",
       "      <td>20100103</td>\n",
       "      <td>1</td>\n",
       "      <td>104053</td>\n",
       "      <td>1.0</td>\n",
       "      <td>NaN</td>\n",
       "      <td>...</td>\n",
       "      <td>34.0</td>\n",
       "      <td>29.0</td>\n",
       "      <td>11.0</td>\n",
       "      <td>10.0</td>\n",
       "      <td>3.0</td>\n",
       "      <td>5.0</td>\n",
       "      <td>7.0</td>\n",
       "      <td>4410.0</td>\n",
       "      <td>77.0</td>\n",
       "      <td>598.0</td>\n",
       "    </tr>\n",
       "    <tr>\n",
       "      <th>1</th>\n",
       "      <td>2010-339</td>\n",
       "      <td>Brisbane</td>\n",
       "      <td>Hard</td>\n",
       "      <td>32</td>\n",
       "      <td>A</td>\n",
       "      <td>20100103</td>\n",
       "      <td>30</td>\n",
       "      <td>103285</td>\n",
       "      <td>2.0</td>\n",
       "      <td>NaN</td>\n",
       "      <td>...</td>\n",
       "      <td>27.0</td>\n",
       "      <td>14.0</td>\n",
       "      <td>7.0</td>\n",
       "      <td>7.0</td>\n",
       "      <td>3.0</td>\n",
       "      <td>7.0</td>\n",
       "      <td>12.0</td>\n",
       "      <td>2625.0</td>\n",
       "      <td>13.0</td>\n",
       "      <td>2610.0</td>\n",
       "    </tr>\n",
       "    <tr>\n",
       "      <th>2</th>\n",
       "      <td>2010-339</td>\n",
       "      <td>Brisbane</td>\n",
       "      <td>Hard</td>\n",
       "      <td>32</td>\n",
       "      <td>A</td>\n",
       "      <td>20100103</td>\n",
       "      <td>29</td>\n",
       "      <td>104053</td>\n",
       "      <td>1.0</td>\n",
       "      <td>NaN</td>\n",
       "      <td>...</td>\n",
       "      <td>43.0</td>\n",
       "      <td>34.0</td>\n",
       "      <td>21.0</td>\n",
       "      <td>13.0</td>\n",
       "      <td>10.0</td>\n",
       "      <td>12.0</td>\n",
       "      <td>7.0</td>\n",
       "      <td>4410.0</td>\n",
       "      <td>20.0</td>\n",
       "      <td>1655.0</td>\n",
       "    </tr>\n",
       "    <tr>\n",
       "      <th>3</th>\n",
       "      <td>2010-339</td>\n",
       "      <td>Brisbane</td>\n",
       "      <td>Hard</td>\n",
       "      <td>32</td>\n",
       "      <td>A</td>\n",
       "      <td>20100103</td>\n",
       "      <td>28</td>\n",
       "      <td>103285</td>\n",
       "      <td>2.0</td>\n",
       "      <td>NaN</td>\n",
       "      <td>...</td>\n",
       "      <td>40.0</td>\n",
       "      <td>25.0</td>\n",
       "      <td>11.0</td>\n",
       "      <td>10.0</td>\n",
       "      <td>6.0</td>\n",
       "      <td>10.0</td>\n",
       "      <td>12.0</td>\n",
       "      <td>2625.0</td>\n",
       "      <td>105.0</td>\n",
       "      <td>521.0</td>\n",
       "    </tr>\n",
       "    <tr>\n",
       "      <th>4</th>\n",
       "      <td>2010-339</td>\n",
       "      <td>Brisbane</td>\n",
       "      <td>Hard</td>\n",
       "      <td>32</td>\n",
       "      <td>A</td>\n",
       "      <td>20100103</td>\n",
       "      <td>27</td>\n",
       "      <td>104792</td>\n",
       "      <td>3.0</td>\n",
       "      <td>NaN</td>\n",
       "      <td>...</td>\n",
       "      <td>50.0</td>\n",
       "      <td>38.0</td>\n",
       "      <td>17.0</td>\n",
       "      <td>14.0</td>\n",
       "      <td>3.0</td>\n",
       "      <td>6.0</td>\n",
       "      <td>13.0</td>\n",
       "      <td>2610.0</td>\n",
       "      <td>44.0</td>\n",
       "      <td>935.0</td>\n",
       "    </tr>\n",
       "  </tbody>\n",
       "</table>\n",
       "<p>5 rows × 49 columns</p>\n",
       "</div>"
      ],
      "text/plain": [
       "  tourney_id tourney_name surface  draw_size tourney_level  tourney_date  \\\n",
       "0   2010-339     Brisbane    Hard         32             A      20100103   \n",
       "1   2010-339     Brisbane    Hard         32             A      20100103   \n",
       "2   2010-339     Brisbane    Hard         32             A      20100103   \n",
       "3   2010-339     Brisbane    Hard         32             A      20100103   \n",
       "4   2010-339     Brisbane    Hard         32             A      20100103   \n",
       "\n",
       "   match_num  winner_id  winner_seed winner_entry  ... l_1stIn l_1stWon  \\\n",
       "0          1     104053          1.0          NaN  ...    34.0     29.0   \n",
       "1         30     103285          2.0          NaN  ...    27.0     14.0   \n",
       "2         29     104053          1.0          NaN  ...    43.0     34.0   \n",
       "3         28     103285          2.0          NaN  ...    40.0     25.0   \n",
       "4         27     104792          3.0          NaN  ...    50.0     38.0   \n",
       "\n",
       "   l_2ndWon l_SvGms  l_bpSaved  l_bpFaced  winner_rank winner_rank_points  \\\n",
       "0      11.0    10.0        3.0        5.0          7.0             4410.0   \n",
       "1       7.0     7.0        3.0        7.0         12.0             2625.0   \n",
       "2      21.0    13.0       10.0       12.0          7.0             4410.0   \n",
       "3      11.0    10.0        6.0       10.0         12.0             2625.0   \n",
       "4      17.0    14.0        3.0        6.0         13.0             2610.0   \n",
       "\n",
       "  loser_rank loser_rank_points  \n",
       "0       77.0             598.0  \n",
       "1       13.0            2610.0  \n",
       "2       20.0            1655.0  \n",
       "3      105.0             521.0  \n",
       "4       44.0             935.0  \n",
       "\n",
       "[5 rows x 49 columns]"
      ]
     },
     "execution_count": 26,
     "metadata": {},
     "output_type": "execute_result"
    }
   ],
   "source": [
    "merged_df.head()"
   ]
  },
  {
   "cell_type": "code",
   "execution_count": 27,
   "metadata": {},
   "outputs": [],
   "source": [
    "# iterate thru the columns in the dataframe to figure out which are float/int\n",
    "for col in merged_df.columns:\n",
    "    dtype = merged_df[col].dtype\n",
    "    unique_count = merged_df[col].nunique()\n",
    "    total_count = len(merged_df)\n",
    "\n",
    "    if dtype in [\"int64\", \"float64\"]:\n",
    "        if col in [\"winner_id\", \"loser_id\", \"tourney_id\", \"match_num\"]:\n",
    "            categorical_cols.append(col)\n",
    "        elif unique_count < 10: \n",
    "            categorical_cols.append(col)\n",
    "        else:\n",
    "            numerical_cols.append(col)\n",
    "    else:\n",
    "        categorical_cols.append(col)\n",
    "\n",
    "# semantic classification for now.\n",
    "if \"tourney_date\" in categorical_cols:\n",
    "    categorical_cols.remove(\"tourney_date\")\n",
    "    numerical_cols.append(\"tourney_date\")"
   ]
  },
  {
   "cell_type": "markdown",
   "metadata": {},
   "source": [
    "Print the classifications:"
   ]
  },
  {
   "cell_type": "code",
   "execution_count": 28,
   "metadata": {},
   "outputs": [
    {
     "name": "stdout",
     "output_type": "stream",
     "text": [
      "\n",
      "Numerical Columns:\n",
      "['draw_size', 'tourney_date', 'winner_seed', 'winner_ht', 'winner_age', 'loser_seed', 'loser_ht', 'loser_age', 'minutes', 'w_ace', 'w_df', 'w_svpt', 'w_1stIn', 'w_1stWon', 'w_2ndWon', 'w_SvGms', 'w_bpSaved', 'w_bpFaced', 'l_ace', 'l_df', 'l_svpt', 'l_1stIn', 'l_1stWon', 'l_2ndWon', 'l_SvGms', 'l_bpSaved', 'l_bpFaced', 'winner_rank', 'winner_rank_points', 'loser_rank', 'loser_rank_points']\n",
      "Total numerical columns: 31\n",
      "\n",
      "Categorical Columns:\n",
      "['tourney_id', 'tourney_name', 'surface', 'tourney_level', 'match_num', 'winner_id', 'winner_entry', 'winner_name', 'winner_hand', 'winner_ioc', 'loser_id', 'loser_entry', 'loser_name', 'loser_hand', 'loser_ioc', 'score', 'best_of', 'round']\n",
      "Total categorical columns: 18\n",
      "\n"
     ]
    }
   ],
   "source": [
    "print(\"\\nNumerical Columns:\")\n",
    "print(numerical_cols)\n",
    "print(f\"Total numerical columns: {len(numerical_cols)}\\n\")\n",
    "print(\"Categorical Columns:\")\n",
    "print(categorical_cols)\n",
    "print(f\"Total categorical columns: {len(categorical_cols)}\\n\")"
   ]
  },
  {
   "cell_type": "markdown",
   "metadata": {},
   "source": [
    "Calculate the missing values and percentages for numerical columns and report those values and percentages in the numerical cols."
   ]
  },
  {
   "cell_type": "code",
   "execution_count": 29,
   "metadata": {},
   "outputs": [
    {
     "name": "stdout",
     "output_type": "stream",
     "text": [
      "Numerical columns with missing values:\n",
      "                    Missing Count  Missing Percent\n",
      "winner_seed                 24405            57.33\n",
      "winner_ht                     491             1.15\n",
      "winner_age                      3             0.01\n",
      "loser_seed                  32329            75.94\n",
      "loser_ht                     1100             2.58\n",
      "loser_age                       3             0.01\n",
      "minutes                      4383            10.30\n",
      "w_ace                        2742             6.44\n",
      "w_df                         2742             6.44\n",
      "w_svpt                       2742             6.44\n",
      "w_1stIn                      2742             6.44\n",
      "w_1stWon                     2742             6.44\n",
      "w_2ndWon                     2742             6.44\n",
      "w_SvGms                      2742             6.44\n",
      "w_bpSaved                    2742             6.44\n",
      "w_bpFaced                    2742             6.44\n",
      "l_ace                        2742             6.44\n",
      "l_df                         2742             6.44\n",
      "l_svpt                       2742             6.44\n",
      "l_1stIn                      2742             6.44\n",
      "l_1stWon                     2742             6.44\n",
      "l_2ndWon                     2742             6.44\n",
      "l_SvGms                      2742             6.44\n",
      "l_bpSaved                    2742             6.44\n",
      "l_bpFaced                    2742             6.44\n",
      "winner_rank                   262             0.62\n",
      "winner_rank_points            262             0.62\n",
      "loser_rank                    671             1.58\n",
      "loser_rank_points             671             1.58\n"
     ]
    }
   ],
   "source": [
    "numerical_missing = merged_df[numerical_cols].isnull().sum()\n",
    "numerical_missing_percent = (merged_df[numerical_cols].isnull().mean() * 100).round(2)\n",
    "\n",
    "missing_numerical_df = pd.DataFrame({\n",
    "    \"Missing Count\": numerical_missing,\n",
    "    \"Missing Percent\": numerical_missing_percent\n",
    "})\n",
    "missing_numerical_df = missing_numerical_df[missing_numerical_df[\"Missing Count\"] > 0]\n",
    "print(\"Numerical columns with missing values:\")\n",
    "print(missing_numerical_df)"
   ]
  },
  {
   "cell_type": "markdown",
   "metadata": {},
   "source": [
    "'winner_seed' and 'loser_seed' should be removed."
   ]
  },
  {
   "cell_type": "code",
   "execution_count": 30,
   "metadata": {},
   "outputs": [
    {
     "name": "stdout",
     "output_type": "stream",
     "text": [
      "Numerical columns with missing values:\n",
      "              Missing Count  Missing Percent\n",
      "surface                  53             0.12\n",
      "winner_entry          36903            86.69\n",
      "loser_entry           33418            78.50\n",
      "loser_hand                4             0.01\n"
     ]
    }
   ],
   "source": [
    "categorical_missing = merged_df[categorical_cols].isnull().sum()\n",
    "categorical_missing_percent = (merged_df[categorical_cols].isnull().mean() * 100).round(2)\n",
    "\n",
    "missing_categorical_df = pd.DataFrame({\n",
    "    \"Missing Count\": categorical_missing,\n",
    "    \"Missing Percent\": categorical_missing_percent\n",
    "})\n",
    "missing_categorical_df = missing_categorical_df[missing_categorical_df[\"Missing Count\"] > 0]\n",
    "print(\"Numerical columns with missing values:\")\n",
    "print(missing_categorical_df)"
   ]
  },
  {
   "cell_type": "markdown",
   "metadata": {},
   "source": [
    "'winner_entry' and 'loser_entry' should be removed."
   ]
  },
  {
   "cell_type": "code",
   "execution_count": 31,
   "metadata": {},
   "outputs": [],
   "source": [
    "merged_df = merged_df.drop(columns=[\"winner_seed\", \"loser_seed\", \"winner_entry\", \"loser_entry\"])"
   ]
  },
  {
   "cell_type": "code",
   "execution_count": 32,
   "metadata": {},
   "outputs": [],
   "source": [
    "max_winner_rank = merged_df['winner_rank'].max()\n",
    "min_winner_rank = merged_df['winner_rank'].min()\n",
    "max_loser_rank = merged_df['loser_rank'].max()\n",
    "min_loser_rank = merged_df['loser_rank'].min()\n",
    "max_winner_rank_points = merged_df['winner_rank_points'].max()\n",
    "min_winner_rank_points = merged_df['winner_rank_points'].min()\n",
    "max_loser_rank_points = merged_df['loser_rank_points'].max()\n",
    "min_loser_rank_points = merged_df['loser_rank_points'].min()"
   ]
  },
  {
   "cell_type": "code",
   "execution_count": 33,
   "metadata": {},
   "outputs": [
    {
     "data": {
      "text/plain": [
       "np.float64(2159.0)"
      ]
     },
     "execution_count": 33,
     "metadata": {},
     "output_type": "execute_result"
    }
   ],
   "source": [
    "max_loser_rank"
   ]
  },
  {
   "cell_type": "markdown",
   "metadata": {},
   "source": [
    "Columns to fill with 0:"
   ]
  },
  {
   "cell_type": "code",
   "execution_count": 34,
   "metadata": {},
   "outputs": [],
   "source": [
    "stats_cols = [\"w_ace\", \"w_df\", \"w_svpt\", \"w_1stIn\", \"w_1stWon\", \"w_2ndWon\", \"w_SvGms\",\n",
    "              \"w_bpSaved\", \"w_bpFaced\", \"l_ace\", \"l_df\", \"l_svpt\", \"l_1stIn\", \"l_1stWon\",\n",
    "              \"l_2ndWon\", \"l_SvGms\", \"l_bpSaved\", \"l_bpFaced\"]\n",
    "merged_df[stats_cols] = merged_df[stats_cols].fillna(0)"
   ]
  },
  {
   "cell_type": "code",
   "execution_count": 35,
   "metadata": {},
   "outputs": [],
   "source": [
    "# Minutes, height, age: Fill with median\n",
    "merged_df[\"minutes\"] = merged_df[\"minutes\"].fillna(merged_df[\"minutes\"].median())\n",
    "merged_df[\"winner_ht\"] = merged_df[\"winner_ht\"].fillna(merged_df[\"winner_ht\"].median())\n",
    "merged_df[\"loser_ht\"] = merged_df[\"loser_ht\"].fillna(merged_df[\"loser_ht\"].median())\n",
    "merged_df[\"winner_age\"] = merged_df[\"winner_age\"].fillna(merged_df[\"winner_age\"].median())\n",
    "merged_df[\"loser_age\"] = merged_df[\"loser_age\"].fillna(merged_df[\"loser_age\"].median())\n",
    "\n",
    "# Ranks and points: Fill with 3000 and 0 for unranked\n",
    "merged_df[\"winner_rank\"] = merged_df[\"winner_rank\"].fillna(3000)\n",
    "merged_df[\"loser_rank\"] = merged_df[\"loser_rank\"].fillna(3000)\n",
    "merged_df[\"winner_rank_points\"] = merged_df[\"winner_rank_points\"].fillna(0)\n",
    "merged_df[\"loser_rank_points\"] = merged_df[\"loser_rank_points\"].fillna(0)"
   ]
  },
  {
   "cell_type": "markdown",
   "metadata": {},
   "source": [
    "Drop rows which dont have critical features:"
   ]
  },
  {
   "cell_type": "code",
   "execution_count": 36,
   "metadata": {},
   "outputs": [],
   "source": [
    "merged_df = merged_df.dropna(subset=[\"winner_name\", \"loser_name\", \"tourney_date\", \"surface\", \"loser_hand\"])"
   ]
  },
  {
   "cell_type": "markdown",
   "metadata": {},
   "source": [
    "Verifying missing values after handling....1"
   ]
  },
  {
   "cell_type": "code",
   "execution_count": 39,
   "metadata": {},
   "outputs": [
    {
     "name": "stdout",
     "output_type": "stream",
     "text": [
      "tourney_id            0\n",
      "tourney_name          0\n",
      "surface               0\n",
      "draw_size             0\n",
      "tourney_level         0\n",
      "tourney_date          0\n",
      "match_num             0\n",
      "winner_id             0\n",
      "winner_name           0\n",
      "winner_hand           0\n",
      "winner_ht             0\n",
      "winner_ioc            0\n",
      "winner_age            0\n",
      "loser_id              0\n",
      "loser_name            0\n",
      "loser_hand            0\n",
      "loser_ht              0\n",
      "loser_ioc             0\n",
      "loser_age             0\n",
      "score                 0\n",
      "best_of               0\n",
      "round                 0\n",
      "minutes               0\n",
      "w_ace                 0\n",
      "w_df                  0\n",
      "w_svpt                0\n",
      "w_1stIn               0\n",
      "w_1stWon              0\n",
      "w_2ndWon              0\n",
      "w_SvGms               0\n",
      "w_bpSaved             0\n",
      "w_bpFaced             0\n",
      "l_ace                 0\n",
      "l_df                  0\n",
      "l_svpt                0\n",
      "l_1stIn               0\n",
      "l_1stWon              0\n",
      "l_2ndWon              0\n",
      "l_SvGms               0\n",
      "l_bpSaved             0\n",
      "l_bpFaced             0\n",
      "winner_rank           0\n",
      "winner_rank_points    0\n",
      "loser_rank            0\n",
      "loser_rank_points     0\n",
      "dtype: int64\n"
     ]
    }
   ],
   "source": [
    "print(merged_df.isnull().sum())"
   ]
  },
  {
   "cell_type": "markdown",
   "metadata": {},
   "source": [
    "Now I'll write a script to save the clean handled data and run data exploration and important features identification on that:"
   ]
  },
  {
   "cell_type": "code",
   "execution_count": 40,
   "metadata": {},
   "outputs": [
    {
     "name": "stdout",
     "output_type": "stream",
     "text": [
      "Saved dataset with missing values handled: 42514 rows, 45 columns.\n"
     ]
    }
   ],
   "source": [
    "merged_df.to_csv(\"atp_matches_2010_2024_missing_handled.csv\", index=False)\n",
    "print(f\"Saved dataset with missing values handled: {len(merged_df)} rows, {len(merged_df.columns)} columns.\")"
   ]
  }
 ],
 "metadata": {
  "kernelspec": {
   "display_name": "Python 3",
   "language": "python",
   "name": "python3"
  },
  "language_info": {
   "codemirror_mode": {
    "name": "ipython",
    "version": 3
   },
   "file_extension": ".py",
   "mimetype": "text/x-python",
   "name": "python",
   "nbconvert_exporter": "python",
   "pygments_lexer": "ipython3",
   "version": "3.12.6"
  }
 },
 "nbformat": 4,
 "nbformat_minor": 2
}
